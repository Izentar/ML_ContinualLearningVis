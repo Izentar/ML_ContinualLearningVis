{
 "cells": [
  {
   "cell_type": "code",
   "execution_count": 4,
   "id": "563403a5",
   "metadata": {},
   "outputs": [],
   "source": [
    "import torch\n",
    "\n",
    "from lucent.optvis import render, param, transform, objectives\n",
    "from lucent.modelzoo.util import get_model_layers\n",
    "\n",
    "from pytorchcv.model_provider import get_model as ptcv_get_model"
   ]
  },
  {
   "cell_type": "code",
   "execution_count": 5,
   "id": "9249a60d",
   "metadata": {},
   "outputs": [],
   "source": [
    "device = torch.device(\"cuda:0\" if torch.cuda.is_available() else \"cpu\")"
   ]
  },
  {
   "cell_type": "code",
   "execution_count": 6,
   "id": "b5c3bed6",
   "metadata": {},
   "outputs": [
    {
     "name": "stdout",
     "output_type": "stream",
     "text": [
      "Downloading /home/ubuntu/.torch/models/resnet20_cifar100-2964-a5322afe.pth.zip from https://github.com/osmr/imgclsmob/releases/download/v0.0.180/resnet20_cifar100-2964-a5322afe.pth.zip...\n"
     ]
    }
   ],
   "source": [
    "net = ptcv_get_model(\"resnet20_cifar100\", pretrained=True).to(device).eval()"
   ]
  },
  {
   "cell_type": "code",
   "execution_count": 16,
   "id": "76a79825",
   "metadata": {},
   "outputs": [
    {
     "name": "stdout",
     "output_type": "stream",
     "text": [
      "features\n",
      "output\n",
      "odict_items([])\n"
     ]
    }
   ],
   "source": [
    "for name, layer in net._modules.items():\n",
    "    if layer is None:\n",
    "        # e.g. GoogLeNet's aux1 and aux2 layers\n",
    "        continue\n",
    "    print(name)\n",
    "    if name == \"output\":\n",
    "        print(layer._modules.items())\n",
    "#     features[\"_\".join(prefix + [name])] = ModuleHook(layer)\n",
    "#     hook_layers(layer, prefix=prefix + [name])"
   ]
  },
  {
   "cell_type": "code",
   "execution_count": 20,
   "id": "787aa1c1",
   "metadata": {},
   "outputs": [],
   "source": [
    "from collections import OrderedDict\n",
    "\n",
    "class ModuleHook:\n",
    "    def __init__(self, module):\n",
    "        self.hook = module.register_forward_hook(self.hook_fn)\n",
    "        self.module = None\n",
    "        self.features = None\n",
    "\n",
    "    def hook_fn(self, module, input, output):\n",
    "        self.module = module\n",
    "        self.features = output\n",
    "\n",
    "    def close(self):\n",
    "        self.hook.remove()\n",
    "\n",
    "\n",
    "def hook_model(model):\n",
    "    features = OrderedDict()\n",
    "\n",
    "    # recursive hooking function\n",
    "    def hook_layers(net, prefix=[]):\n",
    "        if hasattr(net, \"_modules\"):\n",
    "            for name, layer in net._modules.items():\n",
    "                if layer is None:\n",
    "                    # e.g. GoogLeNet's aux1 and aux2 layers\n",
    "                    continue\n",
    "                features[\"_\".join(prefix + [name])] = ModuleHook(layer)\n",
    "                hook_layers(layer, prefix=prefix + [name])\n",
    "\n",
    "    hook_layers(model)\n",
    "    return features"
   ]
  },
  {
   "cell_type": "code",
   "execution_count": 21,
   "id": "78f3a56f",
   "metadata": {},
   "outputs": [],
   "source": [
    "features = hook_model(net)"
   ]
  },
  {
   "cell_type": "code",
   "execution_count": 34,
   "id": "9e046372",
   "metadata": {},
   "outputs": [],
   "source": [
    "x = torch.zeros((1, 3, 32, 32)).to(device)"
   ]
  },
  {
   "cell_type": "code",
   "execution_count": 35,
   "id": "ecc06784",
   "metadata": {},
   "outputs": [
    {
     "name": "stdout",
     "output_type": "stream",
     "text": [
      "None\n",
      "None\n"
     ]
    }
   ],
   "source": [
    "print(features['features_final_pool'].features)\n",
    "print(features['output'].features)"
   ]
  },
  {
   "cell_type": "code",
   "execution_count": 36,
   "id": "34640642",
   "metadata": {},
   "outputs": [
    {
     "data": {
      "text/plain": [
       "tensor([[ 1.8337, -1.4709,  0.0271, -0.7148,  0.0370, -0.1507, -0.8189,  0.9385,\n",
       "         -1.3127,  2.3062, -0.3348,  0.1108, -2.6695, -1.7379, -2.5689, -0.4551,\n",
       "         -0.5948,  0.3206,  0.2367, -1.0861,  0.6118, -0.6678, -1.0085,  4.9016,\n",
       "          2.0494,  1.6755, -0.9330, -0.1615,  2.1250, -0.2115,  0.6646, -1.1380,\n",
       "         -1.3570,  0.7690,  0.4404, -2.0272, -0.3456, -1.8814,  0.1945,  0.3686,\n",
       "          1.2247, -0.6977,  0.1172, -1.1133,  0.6819, -1.5177, -0.7891, -0.3102,\n",
       "         -1.3217,  0.5244,  0.8520, -1.4418, -0.2840, -0.2401, -0.1120,  0.1728,\n",
       "         -0.5096,  1.8330, -0.6634,  1.1502,  3.1967, -0.6073, -1.7972, -0.3111,\n",
       "          1.4349, -0.1158, -0.6247,  0.7515,  0.5632,  2.0421, -1.5322,  3.7166,\n",
       "          0.4421,  1.5849,  0.6027, -0.8073,  0.5707,  1.1522, -0.7522,  1.1610,\n",
       "         -0.0530, -0.3253, -0.6447, -0.5906, -0.0414, -0.1075, -2.0050, -0.7657,\n",
       "         -0.7578, -0.2389, -1.2035,  0.6560, -0.1088, -0.4342,  0.7228,  1.3179,\n",
       "         -0.4656, -0.2567, -1.0724,  2.2823]], device='cuda:0',\n",
       "       grad_fn=<AddmmBackward0>)"
      ]
     },
     "execution_count": 36,
     "metadata": {},
     "output_type": "execute_result"
    }
   ],
   "source": [
    "net(x)"
   ]
  },
  {
   "cell_type": "code",
   "execution_count": 39,
   "id": "24fdf4d8",
   "metadata": {},
   "outputs": [
    {
     "name": "stdout",
     "output_type": "stream",
     "text": [
      "torch.Size([1, 100])\n"
     ]
    }
   ],
   "source": [
    "# print(features['features_final_pool'].features)\n",
    "print(features['output'].features.shape)"
   ]
  },
  {
   "cell_type": "code",
   "execution_count": 40,
   "id": "009720ed",
   "metadata": {},
   "outputs": [
    {
     "name": "stderr",
     "output_type": "stream",
     "text": [
      "  0%|                                                                  | 0/512 [00:00<?, ?it/s]\n"
     ]
    },
    {
     "ename": "AssertionError",
     "evalue": "There are no saved feature maps. Make sure to put the model in eval mode, like so: `model.to(device).eval()`. See README for example.",
     "output_type": "error",
     "traceback": [
      "\u001b[0;31m---------------------------------------------------------------------------\u001b[0m",
      "\u001b[0;31mAssertionError\u001b[0m                            Traceback (most recent call last)",
      "Input \u001b[0;32mIn [40]\u001b[0m, in \u001b[0;36m<module>\u001b[0;34m\u001b[0m\n\u001b[0;32m----> 1\u001b[0m _ \u001b[38;5;241m=\u001b[39m \u001b[43mrender\u001b[49m\u001b[38;5;241;43m.\u001b[39;49m\u001b[43mrender_vis\u001b[49m\u001b[43m(\u001b[49m\u001b[43mnet\u001b[49m\u001b[43m,\u001b[49m\u001b[43m \u001b[49m\u001b[38;5;124;43m\"\u001b[39;49m\u001b[38;5;124;43moutput:100\u001b[39;49m\u001b[38;5;124;43m\"\u001b[39;49m\u001b[43m,\u001b[49m\u001b[43m \u001b[49m\u001b[43mshow_inline\u001b[49m\u001b[38;5;241;43m=\u001b[39;49m\u001b[38;5;28;43;01mTrue\u001b[39;49;00m\u001b[43m)\u001b[49m\n",
      "File \u001b[0;32m~/.cache/pypoetry/virtualenvs/adversarial-cl-ufrR1ScE-py3.9/lib/python3.9/site-packages/lucent/optvis/render.py:113\u001b[0m, in \u001b[0;36mrender_vis\u001b[0;34m(model, objective_f, param_f, optimizer, transforms, thresholds, verbose, preprocess, progress, show_image, save_image, image_name, show_inline, fixed_image_size)\u001b[0m\n\u001b[1;32m    110\u001b[0m     loss\u001b[38;5;241m.\u001b[39mbackward()\n\u001b[1;32m    111\u001b[0m     \u001b[38;5;28;01mreturn\u001b[39;00m loss\n\u001b[0;32m--> 113\u001b[0m \u001b[43moptimizer\u001b[49m\u001b[38;5;241;43m.\u001b[39;49m\u001b[43mstep\u001b[49m\u001b[43m(\u001b[49m\u001b[43mclosure\u001b[49m\u001b[43m)\u001b[49m\n\u001b[1;32m    114\u001b[0m \u001b[38;5;28;01mif\u001b[39;00m i \u001b[38;5;129;01min\u001b[39;00m thresholds:\n\u001b[1;32m    115\u001b[0m     image \u001b[38;5;241m=\u001b[39m tensor_to_img_array(image_f())\n",
      "File \u001b[0;32m~/.cache/pypoetry/virtualenvs/adversarial-cl-ufrR1ScE-py3.9/lib/python3.9/site-packages/torch/optim/optimizer.py:88\u001b[0m, in \u001b[0;36mOptimizer._hook_for_profile.<locals>.profile_hook_step.<locals>.wrapper\u001b[0;34m(*args, **kwargs)\u001b[0m\n\u001b[1;32m     86\u001b[0m profile_name \u001b[38;5;241m=\u001b[39m \u001b[38;5;124m\"\u001b[39m\u001b[38;5;124mOptimizer.step#\u001b[39m\u001b[38;5;132;01m{}\u001b[39;00m\u001b[38;5;124m.step\u001b[39m\u001b[38;5;124m\"\u001b[39m\u001b[38;5;241m.\u001b[39mformat(obj\u001b[38;5;241m.\u001b[39m\u001b[38;5;18m__class__\u001b[39m\u001b[38;5;241m.\u001b[39m\u001b[38;5;18m__name__\u001b[39m)\n\u001b[1;32m     87\u001b[0m \u001b[38;5;28;01mwith\u001b[39;00m torch\u001b[38;5;241m.\u001b[39mautograd\u001b[38;5;241m.\u001b[39mprofiler\u001b[38;5;241m.\u001b[39mrecord_function(profile_name):\n\u001b[0;32m---> 88\u001b[0m     \u001b[38;5;28;01mreturn\u001b[39;00m \u001b[43mfunc\u001b[49m\u001b[43m(\u001b[49m\u001b[38;5;241;43m*\u001b[39;49m\u001b[43margs\u001b[49m\u001b[43m,\u001b[49m\u001b[43m \u001b[49m\u001b[38;5;241;43m*\u001b[39;49m\u001b[38;5;241;43m*\u001b[39;49m\u001b[43mkwargs\u001b[49m\u001b[43m)\u001b[49m\n",
      "File \u001b[0;32m~/.cache/pypoetry/virtualenvs/adversarial-cl-ufrR1ScE-py3.9/lib/python3.9/site-packages/torch/autograd/grad_mode.py:28\u001b[0m, in \u001b[0;36m_DecoratorContextManager.__call__.<locals>.decorate_context\u001b[0;34m(*args, **kwargs)\u001b[0m\n\u001b[1;32m     25\u001b[0m \u001b[38;5;129m@functools\u001b[39m\u001b[38;5;241m.\u001b[39mwraps(func)\n\u001b[1;32m     26\u001b[0m \u001b[38;5;28;01mdef\u001b[39;00m \u001b[38;5;21mdecorate_context\u001b[39m(\u001b[38;5;241m*\u001b[39margs, \u001b[38;5;241m*\u001b[39m\u001b[38;5;241m*\u001b[39mkwargs):\n\u001b[1;32m     27\u001b[0m     \u001b[38;5;28;01mwith\u001b[39;00m \u001b[38;5;28mself\u001b[39m\u001b[38;5;241m.\u001b[39m\u001b[38;5;18m__class__\u001b[39m():\n\u001b[0;32m---> 28\u001b[0m         \u001b[38;5;28;01mreturn\u001b[39;00m \u001b[43mfunc\u001b[49m\u001b[43m(\u001b[49m\u001b[38;5;241;43m*\u001b[39;49m\u001b[43margs\u001b[49m\u001b[43m,\u001b[49m\u001b[43m \u001b[49m\u001b[38;5;241;43m*\u001b[39;49m\u001b[38;5;241;43m*\u001b[39;49m\u001b[43mkwargs\u001b[49m\u001b[43m)\u001b[49m\n",
      "File \u001b[0;32m~/.cache/pypoetry/virtualenvs/adversarial-cl-ufrR1ScE-py3.9/lib/python3.9/site-packages/torch/optim/adam.py:92\u001b[0m, in \u001b[0;36mAdam.step\u001b[0;34m(self, closure)\u001b[0m\n\u001b[1;32m     90\u001b[0m \u001b[38;5;28;01mif\u001b[39;00m closure \u001b[38;5;129;01mis\u001b[39;00m \u001b[38;5;129;01mnot\u001b[39;00m \u001b[38;5;28;01mNone\u001b[39;00m:\n\u001b[1;32m     91\u001b[0m     \u001b[38;5;28;01mwith\u001b[39;00m torch\u001b[38;5;241m.\u001b[39menable_grad():\n\u001b[0;32m---> 92\u001b[0m         loss \u001b[38;5;241m=\u001b[39m \u001b[43mclosure\u001b[49m\u001b[43m(\u001b[49m\u001b[43m)\u001b[49m\n\u001b[1;32m     94\u001b[0m \u001b[38;5;28;01mfor\u001b[39;00m group \u001b[38;5;129;01min\u001b[39;00m \u001b[38;5;28mself\u001b[39m\u001b[38;5;241m.\u001b[39mparam_groups:\n\u001b[1;32m     95\u001b[0m     params_with_grad \u001b[38;5;241m=\u001b[39m []\n",
      "File \u001b[0;32m~/.cache/pypoetry/virtualenvs/adversarial-cl-ufrR1ScE-py3.9/lib/python3.9/site-packages/lucent/optvis/render.py:109\u001b[0m, in \u001b[0;36mrender_vis.<locals>.closure\u001b[0;34m()\u001b[0m\n\u001b[1;32m     99\u001b[0m     \u001b[38;5;28;01mif\u001b[39;00m i \u001b[38;5;241m==\u001b[39m \u001b[38;5;241m1\u001b[39m:\n\u001b[1;32m    100\u001b[0m         \u001b[38;5;66;03m# Only display the warning message\u001b[39;00m\n\u001b[1;32m    101\u001b[0m         \u001b[38;5;66;03m# on the first iteration, no need to do that\u001b[39;00m\n\u001b[1;32m    102\u001b[0m         \u001b[38;5;66;03m# every iteration\u001b[39;00m\n\u001b[1;32m    103\u001b[0m         warnings\u001b[38;5;241m.\u001b[39mwarn(\n\u001b[1;32m    104\u001b[0m             \u001b[38;5;124m\"\u001b[39m\u001b[38;5;124mSome layers could not be computed because the size of the \u001b[39m\u001b[38;5;124m\"\u001b[39m\n\u001b[1;32m    105\u001b[0m             \u001b[38;5;124m\"\u001b[39m\u001b[38;5;124mimage is not big enough. It is fine, as long as the non\u001b[39m\u001b[38;5;124m\"\u001b[39m\n\u001b[1;32m    106\u001b[0m             \u001b[38;5;124m\"\u001b[39m\u001b[38;5;124mcomputed layers are not used in the objective function\u001b[39m\u001b[38;5;124m\"\u001b[39m\n\u001b[1;32m    107\u001b[0m             \u001b[38;5;124mf\u001b[39m\u001b[38;5;124m\"\u001b[39m\u001b[38;5;124m(exception details: \u001b[39m\u001b[38;5;124m'\u001b[39m\u001b[38;5;132;01m{\u001b[39;00mex\u001b[38;5;132;01m}\u001b[39;00m\u001b[38;5;124m'\u001b[39m\u001b[38;5;124m)\u001b[39m\u001b[38;5;124m\"\u001b[39m\n\u001b[1;32m    108\u001b[0m         )\n\u001b[0;32m--> 109\u001b[0m loss \u001b[38;5;241m=\u001b[39m \u001b[43mobjective_f\u001b[49m\u001b[43m(\u001b[49m\u001b[43mhook\u001b[49m\u001b[43m)\u001b[49m\n\u001b[1;32m    110\u001b[0m loss\u001b[38;5;241m.\u001b[39mbackward()\n\u001b[1;32m    111\u001b[0m \u001b[38;5;28;01mreturn\u001b[39;00m loss\n",
      "File \u001b[0;32m~/.cache/pypoetry/virtualenvs/adversarial-cl-ufrR1ScE-py3.9/lib/python3.9/site-packages/lucent/optvis/objectives.py:33\u001b[0m, in \u001b[0;36mObjective.__call__\u001b[0;34m(self, model)\u001b[0m\n\u001b[1;32m     32\u001b[0m \u001b[38;5;28;01mdef\u001b[39;00m \u001b[38;5;21m__call__\u001b[39m(\u001b[38;5;28mself\u001b[39m, model):\n\u001b[0;32m---> 33\u001b[0m     \u001b[38;5;28;01mreturn\u001b[39;00m \u001b[38;5;28;43mself\u001b[39;49m\u001b[38;5;241;43m.\u001b[39;49m\u001b[43mobjective_func\u001b[49m\u001b[43m(\u001b[49m\u001b[43mmodel\u001b[49m\u001b[43m)\u001b[49m\n",
      "File \u001b[0;32m~/.cache/pypoetry/virtualenvs/adversarial-cl-ufrR1ScE-py3.9/lib/python3.9/site-packages/lucent/optvis/objectives.py:95\u001b[0m, in \u001b[0;36mhandle_batch.<locals>.<lambda>\u001b[0;34m(model)\u001b[0m\n\u001b[1;32m     94\u001b[0m \u001b[38;5;28;01mdef\u001b[39;00m \u001b[38;5;21mhandle_batch\u001b[39m(batch\u001b[38;5;241m=\u001b[39m\u001b[38;5;28;01mNone\u001b[39;00m):\n\u001b[0;32m---> 95\u001b[0m     \u001b[38;5;28;01mreturn\u001b[39;00m \u001b[38;5;28;01mlambda\u001b[39;00m f: \u001b[38;5;28;01mlambda\u001b[39;00m model: \u001b[43mf\u001b[49m\u001b[43m(\u001b[49m\u001b[43m_T_handle_batch\u001b[49m\u001b[43m(\u001b[49m\u001b[43mmodel\u001b[49m\u001b[43m,\u001b[49m\u001b[43m \u001b[49m\u001b[43mbatch\u001b[49m\u001b[38;5;241;43m=\u001b[39;49m\u001b[43mbatch\u001b[49m\u001b[43m)\u001b[49m\u001b[43m)\u001b[49m\n",
      "File \u001b[0;32m~/.cache/pypoetry/virtualenvs/adversarial-cl-ufrR1ScE-py3.9/lib/python3.9/site-packages/lucent/optvis/objectives.py:131\u001b[0m, in \u001b[0;36mchannel.<locals>.inner\u001b[0;34m(model)\u001b[0m\n\u001b[1;32m    129\u001b[0m \u001b[38;5;129m@handle_batch\u001b[39m(batch)\n\u001b[1;32m    130\u001b[0m \u001b[38;5;28;01mdef\u001b[39;00m \u001b[38;5;21minner\u001b[39m(model):\n\u001b[0;32m--> 131\u001b[0m     \u001b[38;5;28;01mreturn\u001b[39;00m \u001b[38;5;241m-\u001b[39m\u001b[43mmodel\u001b[49m\u001b[43m(\u001b[49m\u001b[43mlayer\u001b[49m\u001b[43m)\u001b[49m[:, n_channel]\u001b[38;5;241m.\u001b[39mmean()\n",
      "File \u001b[0;32m~/.cache/pypoetry/virtualenvs/adversarial-cl-ufrR1ScE-py3.9/lib/python3.9/site-packages/lucent/optvis/objectives_util.py:36\u001b[0m, in \u001b[0;36m_T_handle_batch.<locals>.T2\u001b[0;34m(name)\u001b[0m\n\u001b[1;32m     35\u001b[0m \u001b[38;5;28;01mdef\u001b[39;00m \u001b[38;5;21mT2\u001b[39m(name):\n\u001b[0;32m---> 36\u001b[0m     t \u001b[38;5;241m=\u001b[39m \u001b[43mT\u001b[49m\u001b[43m(\u001b[49m\u001b[43mname\u001b[49m\u001b[43m)\u001b[49m\n\u001b[1;32m     37\u001b[0m     \u001b[38;5;28;01mif\u001b[39;00m \u001b[38;5;28misinstance\u001b[39m(batch, \u001b[38;5;28mint\u001b[39m):\n\u001b[1;32m     38\u001b[0m         \u001b[38;5;28;01mreturn\u001b[39;00m t[batch:batch\u001b[38;5;241m+\u001b[39m\u001b[38;5;241m1\u001b[39m]\n",
      "File \u001b[0;32m~/.cache/pypoetry/virtualenvs/adversarial-cl-ufrR1ScE-py3.9/lib/python3.9/site-packages/lucent/optvis/render.py:206\u001b[0m, in \u001b[0;36mhook_model.<locals>.hook\u001b[0;34m(layer)\u001b[0m\n\u001b[1;32m    204\u001b[0m     \u001b[38;5;28;01massert\u001b[39;00m layer \u001b[38;5;129;01min\u001b[39;00m features, \u001b[38;5;124mf\u001b[39m\u001b[38;5;124m\"\u001b[39m\u001b[38;5;124mInvalid layer \u001b[39m\u001b[38;5;132;01m{\u001b[39;00mlayer\u001b[38;5;132;01m}\u001b[39;00m\u001b[38;5;124m. Retrieve the list of layers with `lucent.modelzoo.util.get_model_layers(model)`.\u001b[39m\u001b[38;5;124m\"\u001b[39m\n\u001b[1;32m    205\u001b[0m     out \u001b[38;5;241m=\u001b[39m features[layer]\u001b[38;5;241m.\u001b[39mfeatures\n\u001b[0;32m--> 206\u001b[0m \u001b[38;5;28;01massert\u001b[39;00m out \u001b[38;5;129;01mis\u001b[39;00m \u001b[38;5;129;01mnot\u001b[39;00m \u001b[38;5;28;01mNone\u001b[39;00m, \u001b[38;5;124m\"\u001b[39m\u001b[38;5;124mThere are no saved feature maps. Make sure to put the model in eval mode, like so: `model.to(device).eval()`. See README for example.\u001b[39m\u001b[38;5;124m\"\u001b[39m\n\u001b[1;32m    207\u001b[0m \u001b[38;5;28;01mreturn\u001b[39;00m out\n",
      "\u001b[0;31mAssertionError\u001b[0m: There are no saved feature maps. Make sure to put the model in eval mode, like so: `model.to(device).eval()`. See README for example."
     ]
    }
   ],
   "source": [
    "_ = render.render_vis(net, \"output:100\", show_inline=True)"
   ]
  },
  {
   "cell_type": "code",
   "execution_count": 76,
   "id": "39f37a7d",
   "metadata": {},
   "outputs": [
    {
     "name": "stderr",
     "output_type": "stream",
     "text": [
      "100%|████████████████████████████████████████████████████████| 512/512 [00:11<00:00, 45.01it/s]\n"
     ]
    },
    {
     "data": {
      "text/html": [
       "<div style=\"display: flex; flex-direction: row;\"><div style=\"margin-right:10px; margin-top: 4px;\">\n",
       "                            0 <br/>\n",
       "                            <img src=\"data:image/PNG;base64,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\" style=\"image-rendering: pixelated;\">\n",
       "                        </div></div>"
      ],
      "text/plain": [
       "<IPython.core.display.HTML object>"
      ]
     },
     "metadata": {},
     "output_type": "display_data"
    }
   ],
   "source": [
    "cppn_param_f = lambda: param.cppn(32)\n",
    "cppn_opt = lambda params: torch.optim.Adam(params, 5e-3)\n",
    "_ = render.render_vis(net, \"labels:11\", cppn_param_f, cppn_opt, fixed_image_size=32, show_inline=True)"
   ]
  },
  {
   "cell_type": "code",
   "execution_count": 77,
   "id": "ef951123",
   "metadata": {
    "scrolled": true
   },
   "outputs": [
    {
     "name": "stderr",
     "output_type": "stream",
     "text": [
      "100%|████████████████████████████████████████████████████████| 512/512 [00:15<00:00, 32.32it/s]\n"
     ]
    },
    {
     "data": {
      "text/html": [
       "<div style=\"display: flex; flex-direction: row;\"><div style=\"margin-right:10px; margin-top: 4px;\">\n",
       "                            0 <br/>\n",
       "                            <img src=\"data:image/PNG;base64,iVBORw0KGgoAAAANSUhEUgAAACAAAAAgCAIAAAD8GO2jAAAKfElEQVR4nAXBaY8c6UEA4Kq33rfeurqq+r7dl2emB99eb+L1bkwibQJZCWQCiOMTAfEB+CP8A74gISHxcSUgCCKREBOzm/WxHo89nhnPTE/PdE8f1d1VXdV13zwP+S998aTzg3232etbkXceaJhwKMGYLp3wyd/8de/jW9OD4S//8e+1mb4h43aVX5YrtoqzrDeZTy/UQGCF3v3Od5882cyueKGqL6ex5Hkuin2QTS1IhdD928/A/1K76ovD1y5CsefFDA0rdzuPf/hIzJbnp8d7e6cPnvy2Mpu/PLh6vwqy002dpzFHMNeyk43hATFT3KIJPvTKvmNl6XpIEiUcWRHlACyRHhzWP7959ysOE2gUT+KYTKMKT7VrAtgkztFevuR+9pB4+oIB3E0pL2yME+AYrO28OwnWQbJOqP6NrfsPdgrlGhlHicctF4Gtk6LvFiReX+mHVQkytmvltq99v9B/cVbRgCDg7ftFqfvx5oP7H18P5AbVv5N+L5eaA/O6LKx71zTzcrG0LNUb+gnGSL5ZSMsyL5JLmwDQjk2DQry+thPH47mQQjbMKuE6W9k075bzd8vagqMssVFluYjAczHevBlem87X98q24C9hnKJkg0E4imOFAAxHd293H3/xeU5kSBpmBeCG6zyGOBNokFkuIiKPkHUMQxtkOUL3iUZ5G13rG/M1LzFQlum+13z65j/3f/nKTr/O4IeixQvUWHeXqjUNUw7hm1uNh3/+UxjhK1siaCdNBH0VMb6F0pRfExm+PUKeVSvCFGy7m3mnWDUDjvDhccQEFJvGONe83//js98Zzf5Z1+Yq+ZUPwlkYRXEQEwhx9xrFRz/63b0P9v7hKtep//4X/SoliLS3Vi/YcJN1N9C2x66e3K3AJKJMSqCwGPqU6bPO0uW74tgLp2uKB73bH1/8lR792nDem4SfxHkMJFp80Kjff/zjYwW+fLdYb8BGnT+nCo9uZUBYyorx6OoQI5m8GGMR5FoEhPkqgWPdofYvE4SSYoaPTQ156b/uTekT4xGX69+xayP0jRKeJsInGY5lQK3dPn3/bhg2tkR2xXKzqf/iF984q85PflCCFD4gm9O1LjEkF2njAwMmWZmIVopqaWrM8cAjjcxwNf0wWEytxFd3HW/r3lbjutp+a7lshuZLhst+dT5ltm8h4wq7kAoxAxLTC2Yree8o3OkhigguY66awzuVgnl1AOW88Ox5WrEDf6aIVV8U1/+zN9j76i1FmJ9/0fNX0MSNfKfMdVb02B5dESoV4lsPfx36ArvlrYM2l7ZY7ciwfPf0aLwtctkylFGNAxBJdeZGGsChEgo43jhroUIawdSxtb3jd5oy6DQKWWXcfPD4G51GR9GtZomQvfGGgdWsFzLNEKS6SnN0Tju1/UWJDla+oVx82DNLd263kJcE+dz43MuLfbh/Nq9mjPX5rNvams1HlyfH86ODxCfyVJTjSyuDAFTjwJoKy1qs+/xOmVz511Hw8Hbj4i16ezzVk3VK2DymQ8xrQc6KcDaXjQRiagNcoitSBUhYkeJNtUSGaahNrOnB68hSWUp3onisuvEmQqv1X3ynjl2vzeOOs6jZyx5PxnvnGAbd2xlUYhMR7UhAUxQawe2d+lIH58uE5Z2T+Wi8MWG4OKXbQt1dnp96p3vP9M0iTUIRSQmPMJtvNNmmyGBi1X5QtBWDlMo2pQIQJAylR16e9RWOk9nOy9MrPnet1q51eyUyYZe6Z5kOB6DmJKCcl+s8SFhheHEEEidOIoJIjdA7V+y3mhUMjh1/nbIl0C6xna6jJUK7lBTKAXRdEZ9cqMZ4pijrOOGqpWxnt5l6SSuH5CRZnFmzqRo6Cfi9u03DjHOd/id32k8ePyoUqoxQTBLK8RPFcfcNerCw3i+ZwGNCKpP5rSpVKmkUv6TZ2cX56OSYi6JypvTpvTshFHUX5utZKKBKjr3ezftOLvBSCEDE1aukmG99hD7l42q39d9fv5pOh1Fk04uJ1JO9kd4or9QDp1SqOlPfJNFSmRAFm5Pc2vVOuyjMdWJvsAS1igjTgAKCQCFERASqNyv3Pm5DRPpFhrzdlELWlPJSMZt8p33z6b+pQwMEjr94c9LucuVZxFV3UMimayPkRFmIX18aIuEjkvjV3qa31SczpCwSylpJ4hAGohEYgWuvTeXlvgvPDwfN3RaTmLlaCyGIMY+i/B/8JDB0/tX45DdvpvPB6nQNvniyK0oy+LQNdD3RkHo0uDLBMomhVJmZaj6XzOYODFY3d3VrzFG8rV8dcbEvBB48HA8iFDGW1bp3P4lBoKmJUA7tLYbRibifd7zRh8kwoX5xOPqu3FN97/2lc7yv2AaKYyHbbdPhplUud1r49cEo9jwQpfkcPYr9dlUkUtp1CRhnqoaVebP/vp5lULPPiTmgWZbJmBNiN0vt5in98S7J1SS6gSFLzX3XAnSuxOU51wu7vZx5aWZF2iPpaiNrOaFrqCHL44AUWx+tTvTOrV0YivVL85jykldPn330fQ9JzSCmyGDoTp7T68y7Vx8KrX615Ze2KJ6PpCbb3uEvjGQyy+AMGcSgnWMEnGqqWe42sp5pzwLPmMYQBxEoyBxL+BDYM74Aj3QbHZ7ly3zrJuU6keEag8Usk6woTK3clI7E5FKXvInIx05aqAiZYi08HLkxCVKB1i8vA0g5VwpNYl7OMikXW0qkOjSNQyqAD+v5L6eE8vpFGGxuPX8tCiV5eztNY0hIk01w66Mmne0vYOvr0bRgn2UBFrBaq5cJTPbr3GZjTA2QyXjIDz58WNe2c6EHNsoUZOQiCwIpZ+MYmGp2+Gwo8alvrf/vWEsd01Vd8wxZWpoFtD2NUswrQXi+UQ6j4JWtfLl3+F8v9hNCRfFSKCKamEYCThi/3JWXw7NkqWOeXi2My8B1w4mqnMN/+vK4XdEpexHlhaErXA7DFiaildW71ollErd2fv58MbM0Lk9EZLoJfArplxPz4ABVbjQE4OB6UdGsilSQBRdH1YDmY2LDypynrgdXKz5OIGvv/4hDPzMxKFaqlPyazJ/9/KREWVxL3tD+5GQ2vlwQUCYogcOpFKzn+pzH5ZMLL27mdwtJFDqEyJ4txhLByFUhRKxyZYHILFQZwZKcqxD+KbOKhd77CcNEQq57u3qj9+34CDmGr61HJpIlCV3jPu2Ul98OwnOiW6IAxBbBGcbaXC20HCfKZkIGbLGAE2qh6W4wLVTL9lWEHQ+jWizkYKve+oeRI7Xuh2Kl9MnjkKHv/llhuLo9V2akuwgkvpbh20xSC+tXpxfm4oqMA9e1CrmsyPeRBGch9n2rVxaN8YxlCMc1dYMnLAdx9aGThLQA/1Lbob3flHocRRdRzNYFqZcrtprBlnqtT0ex7tOeG7vJszRYAnsbhN+zlgmsrED18FAxipkMZOqk/uab1+eK1u3l3dBejiZhGKwSzaNMqUBBdbKp/fCRaZ9HJ6Oz6b9PKPnhjeufPbz5J80MOFCDt8bs3be/ishX9YJQ+cMb1NPkZ+8GyWogbD7f/bslvbV/+JLxvv3xH/10TkDKG9jxbLaki5X42fIwIC98w/h/8fb8m1d/zPMAAAAASUVORK5CYII=\" style=\"image-rendering: pixelated;\">\n",
       "                        </div><div style=\"margin-right:10px; margin-top: 4px;\">\n",
       "                            1 <br/>\n",
       "                            <img src=\"data:image/PNG;base64,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\" style=\"image-rendering: pixelated;\">\n",
       "                        </div><div style=\"margin-right:10px; margin-top: 4px;\">\n",
       "                            2 <br/>\n",
       "                            <img src=\"data:image/PNG;base64,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\" style=\"image-rendering: pixelated;\">\n",
       "                        </div><div style=\"margin-right:10px; margin-top: 4px;\">\n",
       "                            3 <br/>\n",
       "                            <img src=\"data:image/PNG;base64,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\" style=\"image-rendering: pixelated;\">\n",
       "                        </div><div style=\"margin-right:10px; margin-top: 4px;\">\n",
       "                            4 <br/>\n",
       "                            <img src=\"data:image/PNG;base64,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\" style=\"image-rendering: pixelated;\">\n",
       "                        </div><div style=\"margin-right:10px; margin-top: 4px;\">\n",
       "                            5 <br/>\n",
       "                            <img src=\"data:image/PNG;base64,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\" style=\"image-rendering: pixelated;\">\n",
       "                        </div><div style=\"margin-right:10px; margin-top: 4px;\">\n",
       "                            6 <br/>\n",
       "                            <img src=\"data:image/PNG;base64,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\" style=\"image-rendering: pixelated;\">\n",
       "                        </div><div style=\"margin-right:10px; margin-top: 4px;\">\n",
       "                            7 <br/>\n",
       "                            <img src=\"data:image/PNG;base64,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\" style=\"image-rendering: pixelated;\">\n",
       "                        </div></div>"
      ],
      "text/plain": [
       "<IPython.core.display.HTML object>"
      ]
     },
     "metadata": {},
     "output_type": "display_data"
    }
   ],
   "source": [
    "batch_param_f = lambda: param.image(32, batch=8)\n",
    "\n",
    "obj = objectives.channel(\"labels\", 11) - 4 * objectives.diversity(\"features_final_pool\")\n",
    "\n",
    "_ = render.render_vis(net, obj, batch_param_f, fixed_image_size=32, show_inline=True)"
   ]
  },
  {
   "cell_type": "code",
   "execution_count": 9,
   "id": "4c3df00b",
   "metadata": {},
   "outputs": [
    {
     "data": {
      "text/plain": [
       "['features',\n",
       " 'features_init_block',\n",
       " 'features_init_block_conv',\n",
       " 'features_init_block_bn',\n",
       " 'features_init_block_activ',\n",
       " 'features_stage1',\n",
       " 'features_stage1_unit1',\n",
       " 'features_stage1_unit1_body',\n",
       " 'features_stage1_unit1_body_conv1',\n",
       " 'features_stage1_unit1_body_conv1_conv',\n",
       " 'features_stage1_unit1_body_conv1_bn',\n",
       " 'features_stage1_unit1_body_conv1_activ',\n",
       " 'features_stage1_unit1_body_conv2',\n",
       " 'features_stage1_unit1_body_conv2_conv',\n",
       " 'features_stage1_unit1_body_conv2_bn',\n",
       " 'features_stage1_unit1_activ',\n",
       " 'features_stage1_unit2',\n",
       " 'features_stage1_unit2_body',\n",
       " 'features_stage1_unit2_body_conv1',\n",
       " 'features_stage1_unit2_body_conv1_conv',\n",
       " 'features_stage1_unit2_body_conv1_bn',\n",
       " 'features_stage1_unit2_body_conv1_activ',\n",
       " 'features_stage1_unit2_body_conv2',\n",
       " 'features_stage1_unit2_body_conv2_conv',\n",
       " 'features_stage1_unit2_body_conv2_bn',\n",
       " 'features_stage1_unit2_activ',\n",
       " 'features_stage1_unit3',\n",
       " 'features_stage1_unit3_body',\n",
       " 'features_stage1_unit3_body_conv1',\n",
       " 'features_stage1_unit3_body_conv1_conv',\n",
       " 'features_stage1_unit3_body_conv1_bn',\n",
       " 'features_stage1_unit3_body_conv1_activ',\n",
       " 'features_stage1_unit3_body_conv2',\n",
       " 'features_stage1_unit3_body_conv2_conv',\n",
       " 'features_stage1_unit3_body_conv2_bn',\n",
       " 'features_stage1_unit3_activ',\n",
       " 'features_stage2',\n",
       " 'features_stage2_unit1',\n",
       " 'features_stage2_unit1_body',\n",
       " 'features_stage2_unit1_body_conv1',\n",
       " 'features_stage2_unit1_body_conv1_conv',\n",
       " 'features_stage2_unit1_body_conv1_bn',\n",
       " 'features_stage2_unit1_body_conv1_activ',\n",
       " 'features_stage2_unit1_body_conv2',\n",
       " 'features_stage2_unit1_body_conv2_conv',\n",
       " 'features_stage2_unit1_body_conv2_bn',\n",
       " 'features_stage2_unit1_identity_conv',\n",
       " 'features_stage2_unit1_identity_conv_conv',\n",
       " 'features_stage2_unit1_identity_conv_bn',\n",
       " 'features_stage2_unit1_activ',\n",
       " 'features_stage2_unit2',\n",
       " 'features_stage2_unit2_body',\n",
       " 'features_stage2_unit2_body_conv1',\n",
       " 'features_stage2_unit2_body_conv1_conv',\n",
       " 'features_stage2_unit2_body_conv1_bn',\n",
       " 'features_stage2_unit2_body_conv1_activ',\n",
       " 'features_stage2_unit2_body_conv2',\n",
       " 'features_stage2_unit2_body_conv2_conv',\n",
       " 'features_stage2_unit2_body_conv2_bn',\n",
       " 'features_stage2_unit2_activ',\n",
       " 'features_stage2_unit3',\n",
       " 'features_stage2_unit3_body',\n",
       " 'features_stage2_unit3_body_conv1',\n",
       " 'features_stage2_unit3_body_conv1_conv',\n",
       " 'features_stage2_unit3_body_conv1_bn',\n",
       " 'features_stage2_unit3_body_conv1_activ',\n",
       " 'features_stage2_unit3_body_conv2',\n",
       " 'features_stage2_unit3_body_conv2_conv',\n",
       " 'features_stage2_unit3_body_conv2_bn',\n",
       " 'features_stage2_unit3_activ',\n",
       " 'features_stage3',\n",
       " 'features_stage3_unit1',\n",
       " 'features_stage3_unit1_body',\n",
       " 'features_stage3_unit1_body_conv1',\n",
       " 'features_stage3_unit1_body_conv1_conv',\n",
       " 'features_stage3_unit1_body_conv1_bn',\n",
       " 'features_stage3_unit1_body_conv1_activ',\n",
       " 'features_stage3_unit1_body_conv2',\n",
       " 'features_stage3_unit1_body_conv2_conv',\n",
       " 'features_stage3_unit1_body_conv2_bn',\n",
       " 'features_stage3_unit1_identity_conv',\n",
       " 'features_stage3_unit1_identity_conv_conv',\n",
       " 'features_stage3_unit1_identity_conv_bn',\n",
       " 'features_stage3_unit1_activ',\n",
       " 'features_stage3_unit2',\n",
       " 'features_stage3_unit2_body',\n",
       " 'features_stage3_unit2_body_conv1',\n",
       " 'features_stage3_unit2_body_conv1_conv',\n",
       " 'features_stage3_unit2_body_conv1_bn',\n",
       " 'features_stage3_unit2_body_conv1_activ',\n",
       " 'features_stage3_unit2_body_conv2',\n",
       " 'features_stage3_unit2_body_conv2_conv',\n",
       " 'features_stage3_unit2_body_conv2_bn',\n",
       " 'features_stage3_unit2_activ',\n",
       " 'features_stage3_unit3',\n",
       " 'features_stage3_unit3_body',\n",
       " 'features_stage3_unit3_body_conv1',\n",
       " 'features_stage3_unit3_body_conv1_conv',\n",
       " 'features_stage3_unit3_body_conv1_bn',\n",
       " 'features_stage3_unit3_body_conv1_activ',\n",
       " 'features_stage3_unit3_body_conv2',\n",
       " 'features_stage3_unit3_body_conv2_conv',\n",
       " 'features_stage3_unit3_body_conv2_bn',\n",
       " 'features_stage3_unit3_activ',\n",
       " 'features_final_pool',\n",
       " 'output']"
      ]
     },
     "execution_count": 9,
     "metadata": {},
     "output_type": "execute_result"
    }
   ],
   "source": [
    "get_model_layers(net)"
   ]
  },
  {
   "cell_type": "code",
   "execution_count": null,
   "id": "b0f07169",
   "metadata": {},
   "outputs": [],
   "source": []
  }
 ],
 "metadata": {
  "kernelspec": {
   "display_name": "Python 3 (ipykernel)",
   "language": "python",
   "name": "python3"
  },
  "language_info": {
   "codemirror_mode": {
    "name": "ipython",
    "version": 3
   },
   "file_extension": ".py",
   "mimetype": "text/x-python",
   "name": "python",
   "nbconvert_exporter": "python",
   "pygments_lexer": "ipython3",
   "version": "3.10.6"
  }
 },
 "nbformat": 4,
 "nbformat_minor": 5
}
